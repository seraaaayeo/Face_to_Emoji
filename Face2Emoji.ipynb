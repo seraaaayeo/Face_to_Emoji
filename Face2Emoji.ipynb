{
  "nbformat": 4,
  "nbformat_minor": 0,
  "metadata": {
    "kernelspec": {
      "display_name": "Python 3",
      "language": "python",
      "name": "python3"
    },
    "language_info": {
      "codemirror_mode": {
        "name": "ipython",
        "version": 3
      },
      "file_extension": ".py",
      "mimetype": "text/x-python",
      "name": "python",
      "nbconvert_exporter": "python",
      "pygments_lexer": "ipython3",
      "version": "3.7.9"
    },
    "colab": {
      "name": "Face2Emoji.ipynb",
      "provenance": [],
      "collapsed_sections": []
    },
    "accelerator": "GPU"
  },
  "cells": [
    {
      "cell_type": "markdown",
      "metadata": {
        "id": "4Gr9hvHELPtj"
      },
      "source": [
        "Face to Emoji를 만들건데 노트북 웹캠을 통해 개발하고 깃에 올려 스마트폰에서 사용할 수 있게 할 것이다.\n",
        "\n",
        "## Pre-requisite\n",
        "```\n",
        "pip install tensorflowjs\n",
        "```\n",
        "* Tensorflow.js -> MobileNet\n",
        "* Facial Expression dataset\n",
        "\n",
        "## Environment\n",
        "#### directory architecture\n",
        "```\n",
        ".../tfjs_mobile/model\n",
        ".../tfjs_mobile/data\n",
        "```\n",
        "\n",
        "#### HTML 편집기\n",
        "`gedit index.html`을 통해 작업 디렉터리 아래에 index.html 파일을 생성하고 편집하는 편집기를 실행할 수 있다.\n",
        "\n",
        "#### Deploy\n",
        "Gihub pages(github.io)를 통해 배포한다."
      ]
    },
    {
      "cell_type": "markdown",
      "metadata": {
        "id": "etoiEQJ7LPtq"
      },
      "source": [
        "### 파이썬 로컬 웹서버 띄우기\n",
        "```\n",
        "python3 -m http.server 8080\n",
        "```\n",
        "HTML 문서를 만든 디렉터리로 이동한 후, 이 명령어를 실행하면 파이썬에 기본으로 내장된 HTTP 서버를 실행할 수 있다."
      ]
    },
    {
      "cell_type": "markdown",
      "metadata": {
        "id": "kmCoYO0cLPtr"
      },
      "source": [
        "### Tensorflow.js\n",
        "Tensorflow의 장점 중 하나는 다양한 서비스 플랫폼을 지원한다는 점이다. 파이썬 외에도 C++, Java 등 주요 언어별 Tensorflow API를 제공한다.\n",
        "* Tensorflow Lite : 라즈베리파이 등 임베디드 기기에서 작동\n",
        "* Tensorflow.js : 웹에서 자바스크립트 기반으로 동작\n",
        "* Tensorflow mobile\n",
        "\n",
        "Tensorflow.js의 장점\n",
        "* 서버에 별도로 요청을 보낼 필요 없이 웹 브라우저 내에서 WebGL을 통해 가속된 추론을 할 수 있음.\n",
        "* 낮은 지연성(latency) : 웹 브라우저에서 실행하면 별도로 서버에 인풋 파일을 보내고, 서버에서 머신러닝 모델과 서버 로직을 실행한 뒤 서버에서 출력값을 받는 등의 서버 통신 로직을 생략하기 때문\n",
        "* 언어 특성상 웹개발에 적합하므로 빠른 프로토타입 개발에 용이\n",
        "\n",
        "Tensorflow.js의 단점\n",
        "* 웹 브라우저 내에서 작동하는 어플리케이션의 경우 운영체제에서 직접 작동하는 프로그램보다 연산 자원이 제한된다는 단점이 있다. 따라서 복잡하고 무거운 모델의 경우 tfjs보다는 서버에서 추론한 결과값만 전달받는 방식이 더 적합.\n",
        "\n",
        "[TensorFlow.js 공식 웹사이트](https://www.tensorflow.org/js/models)에 가면 object detection, pose estimation, speech command recognition 등 기본으로 제공되는 모델들이 몇 가지 있음을 발견할 수 있다. 이 중 image classification용으로 제공되는 `ImageNet` 데이터를 학습한 `MobileNet`을 사용할 예정.\n",
        "* [MobileNet Github](https://github.com/tensorflow/tfjs-models/tree/master/mobilenet)\n",
        "\n",
        "Tensorflow.js를 html에서 사용하기 위해서는 다음 코드를 </ title> 태그 아래에 추가하면 된다.\n",
        "```\n",
        "<script src=\"https://cdn.jsdelivr.net/npm/@tensorflow/tfjs@1.0.1\"></script>\n",
        "```"
      ]
    },
    {
      "cell_type": "code",
      "metadata": {
        "colab": {
          "base_uri": "https://localhost:8080/"
        },
        "id": "X-f15StRMmkY",
        "outputId": "6055dabf-287e-4c64-9710-230acb64d38c"
      },
      "source": [
        "from google.colab import drive\n",
        "drive.mount('/content/drive')"
      ],
      "execution_count": 2,
      "outputs": [
        {
          "output_type": "stream",
          "text": [
            "Mounted at /content/drive\n"
          ],
          "name": "stdout"
        }
      ]
    },
    {
      "cell_type": "markdown",
      "metadata": {
        "id": "Wd5Stg4hLPts"
      },
      "source": [
        "## Dataset 준비\n",
        "캐글의 Facial Expression 데이터 `fer2013.csv`\n",
        "* 파이썬으로 파일을 열어서 데이터를 읽고 정리한다. \n",
        "* PrivateTest만 evaluation 데이터로 사용하고, 나머지는 학습 데이터로 사용할것임. \n",
        "* 3.5만행이나 되니 tqdm을 써서 for 루프의 진척도를 표시.\n",
        "* 캐글에 Training, PublicTest, PrivateTest 세 가지로 데이터 분할을 명시해둠. 여기서 PrivateTest만 evaluation 데이터로 사용하고 나머지는 학습 데이터로 사용하자."
      ]
    },
    {
      "cell_type": "code",
      "metadata": {
        "colab": {
          "base_uri": "https://localhost:8080/"
        },
        "id": "Kg0SOckcLPts",
        "outputId": "54ce5293-20d5-4570-add9-4ea1e006e725"
      },
      "source": [
        "import numpy as np\n",
        "import tqdm\n",
        "import os\n",
        "\n",
        "train_x = []\n",
        "train_y = []\n",
        "eval_x = []\n",
        "eval_y = []\n",
        "\n",
        "csv_path = '/content/drive/MyDrive/Colab Notebooks/data/fer2013.csv'\n",
        "\n",
        "with open(csv_path) as f:\n",
        "    for line in tqdm.tqdm(f.read().splitlines()[1:]):\n",
        "        emotion, pixels, usage = line.split(',')\n",
        "    \n",
        "        x = np.array(pixels.split(' ')).astype(float).reshape(48, 48, 1) / 255\n",
        "        y = int(emotion)\n",
        "\n",
        "        if usage == 'PrivateTest':\n",
        "            eval_x.append(x)\n",
        "            eval_y.append(y)\n",
        "        else:\n",
        "            train_x.append(x)\n",
        "            train_y.append(y)\n",
        "\n",
        "print('train : {}, eval :{}'.format(len(train_x), len(eval_x)))"
      ],
      "execution_count": 3,
      "outputs": [
        {
          "output_type": "stream",
          "text": [
            "100%|██████████| 35887/35887 [00:33<00:00, 1071.78it/s]\n"
          ],
          "name": "stderr"
        },
        {
          "output_type": "stream",
          "text": [
            "train : 32298, eval :3589\n"
          ],
          "name": "stdout"
        }
      ]
    },
    {
      "cell_type": "code",
      "metadata": {
        "colab": {
          "base_uri": "https://localhost:8080/",
          "height": 304
        },
        "id": "A2gzUkxULPtu",
        "outputId": "785b989c-bbe0-45e9-810c-120ddffcff51"
      },
      "source": [
        "from matplotlib import pyplot as plt\n",
        "\n",
        "LABELS = ['Angry', 'Disgust', 'Fear', 'Happy', 'Sad', 'Surprise', 'Neutral']\n",
        "\n",
        "print(LABELS[train_y[0]])\n",
        "plt.imshow(train_x[0].reshape([48, 48]), cmap='gray')"
      ],
      "execution_count": 4,
      "outputs": [
        {
          "output_type": "stream",
          "text": [
            "Angry\n"
          ],
          "name": "stdout"
        },
        {
          "output_type": "execute_result",
          "data": {
            "text/plain": [
              "<matplotlib.image.AxesImage at 0x7f5352958d68>"
            ]
          },
          "metadata": {
            "tags": []
          },
          "execution_count": 4
        },
        {
          "output_type": "display_data",
          "data": {
            "image/png": "[encoded data removed]",
            "text/plain": [
              "<Figure size 432x288 with 1 Axes>"
            ]
          },
          "metadata": {
            "tags": [],
            "needs_background": "light"
          }
        }
      ]
    },
    {
      "cell_type": "code",
      "metadata": {
        "colab": {
          "base_uri": "https://localhost:8080/",
          "height": 304
        },
        "id": "7zRZNlL0LPtu",
        "outputId": "899b15b9-ff0e-4947-9b88-fc12895ebfd6"
      },
      "source": [
        "from matplotlib import pyplot as plt\n",
        "\n",
        "LABELS = ['Angry', 'Disgust', 'Fear', 'Happy', 'Sad', 'Surprise', 'Neutral']\n",
        "\n",
        "print(LABELS[train_y[100]])\n",
        "plt.imshow(train_x[100].reshape([48, 48]), cmap='gray')"
      ],
      "execution_count": 5,
      "outputs": [
        {
          "output_type": "stream",
          "text": [
            "Happy\n"
          ],
          "name": "stdout"
        },
        {
          "output_type": "execute_result",
          "data": {
            "text/plain": [
              "<matplotlib.image.AxesImage at 0x7f5352410828>"
            ]
          },
          "metadata": {
            "tags": []
          },
          "execution_count": 5
        },
        {
          "output_type": "display_data",
          "data": {
            "image/png": "[encoded data removed]",
            "text/plain": [
              "<Figure size 432x288 with 1 Axes>"
            ]
          },
          "metadata": {
            "tags": [],
            "needs_background": "light"
          }
        }
      ]
    },
    {
      "cell_type": "markdown",
      "metadata": {
        "id": "QcDtcc93LPtv"
      },
      "source": [
        "## MobileNet 모델 학습하기\n",
        "Keras에 MobileNet V2가 제공되고 있으므로 그걸 쓴다.\n",
        "* 입력 차원과 클래스 개수 내 데이터셋에 맞추기\n",
        "* 우선 100 epoch만 학습하여 모델이 정상동작하는지 확인"
      ]
    },
    {
      "cell_type": "code",
      "metadata": {
        "colab": {
          "base_uri": "https://localhost:8080/"
        },
        "id": "vYsR0Pb5LPtv",
        "outputId": "9104768a-4300-4350-e87d-99ee21632fe7"
      },
      "source": [
        "import tensorflow as tf\n",
        "\n",
        "# model 선언 \n",
        "model = tf.keras.applications.MobileNetV2(input_shape=(48, 48, 1), weights=None, classes=7)\n",
        "\n",
        "model.compile(optimizer=tf.keras.optimizers.Adam(),\n",
        "              loss=tf.keras.losses.CategoricalCrossentropy(),\n",
        "              metrics=[tf.keras.metrics.CategoricalAccuracy()])\n",
        "\n",
        "model.fit(np.stack(train_x),\n",
        "          tf.keras.utils.to_categorical(train_y),\n",
        "          epochs=100,\n",
        "          batch_size=512,\n",
        "          validation_data=(np.stack(eval_x),\n",
        "                           tf.keras.utils.to_categorical(eval_y)))"
      ],
      "execution_count": 8,
      "outputs": [
        {
          "output_type": "stream",
          "text": [
            "Epoch 1/100\n",
            "64/64 [==============================] - 12s 134ms/step - loss: 1.8948 - categorical_accuracy: 0.2202 - val_loss: 1.9297 - val_categorical_accuracy: 0.2449\n",
            "Epoch 2/100\n",
            "64/64 [==============================] - 8s 123ms/step - loss: 1.7122 - categorical_accuracy: 0.3080 - val_loss: 1.9232 - val_categorical_accuracy: 0.2449\n",
            "Epoch 3/100\n",
            "64/64 [==============================] - 8s 124ms/step - loss: 1.6170 - categorical_accuracy: 0.3652 - val_loss: 1.9219 - val_categorical_accuracy: 0.1471\n",
            "Epoch 4/100\n",
            "64/64 [==============================] - 8s 125ms/step - loss: 1.5088 - categorical_accuracy: 0.4163 - val_loss: 1.9244 - val_categorical_accuracy: 0.1744\n",
            "Epoch 5/100\n",
            "64/64 [==============================] - 8s 125ms/step - loss: 1.4127 - categorical_accuracy: 0.4551 - val_loss: 1.9255 - val_categorical_accuracy: 0.1744\n",
            "Epoch 6/100\n",
            "64/64 [==============================] - 8s 125ms/step - loss: 1.3420 - categorical_accuracy: 0.4902 - val_loss: 1.9414 - val_categorical_accuracy: 0.1744\n",
            "Epoch 7/100\n",
            "64/64 [==============================] - 8s 124ms/step - loss: 1.2699 - categorical_accuracy: 0.5227 - val_loss: 1.9490 - val_categorical_accuracy: 0.1744\n",
            "Epoch 8/100\n",
            "64/64 [==============================] - 8s 123ms/step - loss: 1.2208 - categorical_accuracy: 0.5429 - val_loss: 1.9614 - val_categorical_accuracy: 0.1744\n",
            "Epoch 9/100\n",
            "64/64 [==============================] - 8s 124ms/step - loss: 1.1731 - categorical_accuracy: 0.5652 - val_loss: 1.9642 - val_categorical_accuracy: 0.1744\n",
            "Epoch 10/100\n",
            "64/64 [==============================] - 8s 122ms/step - loss: 1.1001 - categorical_accuracy: 0.5916 - val_loss: 1.9642 - val_categorical_accuracy: 0.1655\n",
            "Epoch 11/100\n",
            "64/64 [==============================] - 8s 122ms/step - loss: 1.0339 - categorical_accuracy: 0.6210 - val_loss: 1.9765 - val_categorical_accuracy: 0.1471\n",
            "Epoch 12/100\n",
            "64/64 [==============================] - 8s 123ms/step - loss: 0.9554 - categorical_accuracy: 0.6499 - val_loss: 1.9782 - val_categorical_accuracy: 0.1655\n",
            "Epoch 13/100\n",
            "64/64 [==============================] - 8s 123ms/step - loss: 0.9319 - categorical_accuracy: 0.6593 - val_loss: 1.9638 - val_categorical_accuracy: 0.1471\n",
            "Epoch 14/100\n",
            "64/64 [==============================] - 8s 124ms/step - loss: 0.8516 - categorical_accuracy: 0.6923 - val_loss: 1.9680 - val_categorical_accuracy: 0.1655\n",
            "Epoch 15/100\n",
            "64/64 [==============================] - 8s 124ms/step - loss: 0.8156 - categorical_accuracy: 0.7031 - val_loss: 1.9659 - val_categorical_accuracy: 0.1655\n",
            "Epoch 16/100\n",
            "64/64 [==============================] - 8s 124ms/step - loss: 0.7654 - categorical_accuracy: 0.7250 - val_loss: 1.9531 - val_categorical_accuracy: 0.1655\n",
            "Epoch 17/100\n",
            "64/64 [==============================] - 8s 125ms/step - loss: 0.7244 - categorical_accuracy: 0.7427 - val_loss: 1.9562 - val_categorical_accuracy: 0.1655\n",
            "Epoch 18/100\n",
            "64/64 [==============================] - 8s 124ms/step - loss: 0.6448 - categorical_accuracy: 0.7741 - val_loss: 1.9539 - val_categorical_accuracy: 0.1655\n",
            "Epoch 19/100\n",
            "64/64 [==============================] - 8s 124ms/step - loss: 0.6574 - categorical_accuracy: 0.7666 - val_loss: 1.9651 - val_categorical_accuracy: 0.1471\n",
            "Epoch 20/100\n",
            "64/64 [==============================] - 8s 124ms/step - loss: 0.5699 - categorical_accuracy: 0.7970 - val_loss: 1.9734 - val_categorical_accuracy: 0.1655\n",
            "Epoch 21/100\n",
            "64/64 [==============================] - 8s 123ms/step - loss: 0.5997 - categorical_accuracy: 0.7871 - val_loss: 1.9902 - val_categorical_accuracy: 0.1655\n",
            "Epoch 22/100\n",
            "64/64 [==============================] - 8s 124ms/step - loss: 0.5213 - categorical_accuracy: 0.8150 - val_loss: 1.9750 - val_categorical_accuracy: 0.1655\n",
            "Epoch 23/100\n",
            "64/64 [==============================] - 8s 124ms/step - loss: 0.4739 - categorical_accuracy: 0.8297 - val_loss: 1.9882 - val_categorical_accuracy: 0.1655\n",
            "Epoch 24/100\n",
            "64/64 [==============================] - 8s 127ms/step - loss: 0.5121 - categorical_accuracy: 0.8170 - val_loss: 1.9963 - val_categorical_accuracy: 0.1471\n",
            "Epoch 25/100\n",
            "64/64 [==============================] - 8s 123ms/step - loss: 0.4053 - categorical_accuracy: 0.8540 - val_loss: 2.0059 - val_categorical_accuracy: 0.1471\n",
            "Epoch 26/100\n",
            "64/64 [==============================] - 8s 125ms/step - loss: 0.4311 - categorical_accuracy: 0.8489 - val_loss: 2.0012 - val_categorical_accuracy: 0.1471\n",
            "Epoch 27/100\n",
            "64/64 [==============================] - 8s 125ms/step - loss: 0.4391 - categorical_accuracy: 0.8468 - val_loss: 2.0475 - val_categorical_accuracy: 0.1471\n",
            "Epoch 28/100\n",
            "64/64 [==============================] - 8s 124ms/step - loss: 0.3429 - categorical_accuracy: 0.8777 - val_loss: 2.0485 - val_categorical_accuracy: 0.1471\n",
            "Epoch 29/100\n",
            "64/64 [==============================] - 8s 123ms/step - loss: 0.3638 - categorical_accuracy: 0.8703 - val_loss: 2.0501 - val_categorical_accuracy: 0.1471\n",
            "Epoch 30/100\n",
            "64/64 [==============================] - 8s 123ms/step - loss: 0.2884 - categorical_accuracy: 0.8966 - val_loss: 2.0615 - val_categorical_accuracy: 0.1471\n",
            "Epoch 31/100\n",
            "64/64 [==============================] - 8s 124ms/step - loss: 0.3171 - categorical_accuracy: 0.8876 - val_loss: 2.0860 - val_categorical_accuracy: 0.1471\n",
            "Epoch 32/100\n",
            "64/64 [==============================] - 8s 124ms/step - loss: 0.4099 - categorical_accuracy: 0.8548 - val_loss: 2.0983 - val_categorical_accuracy: 0.1471\n",
            "Epoch 33/100\n",
            "64/64 [==============================] - 8s 124ms/step - loss: 0.3472 - categorical_accuracy: 0.8799 - val_loss: 2.0721 - val_categorical_accuracy: 0.1471\n",
            "Epoch 34/100\n",
            "64/64 [==============================] - 8s 124ms/step - loss: 0.3537 - categorical_accuracy: 0.8746 - val_loss: 2.0744 - val_categorical_accuracy: 0.1655\n",
            "Epoch 35/100\n",
            "64/64 [==============================] - 8s 124ms/step - loss: 0.2999 - categorical_accuracy: 0.8970 - val_loss: 2.1143 - val_categorical_accuracy: 0.1471\n",
            "Epoch 36/100\n",
            "64/64 [==============================] - 8s 124ms/step - loss: 0.2361 - categorical_accuracy: 0.9188 - val_loss: 2.1625 - val_categorical_accuracy: 0.1471\n",
            "Epoch 37/100\n",
            "64/64 [==============================] - 8s 124ms/step - loss: 0.2474 - categorical_accuracy: 0.9137 - val_loss: 2.1171 - val_categorical_accuracy: 0.1655\n",
            "Epoch 38/100\n",
            "64/64 [==============================] - 8s 123ms/step - loss: 0.1593 - categorical_accuracy: 0.9449 - val_loss: 2.1591 - val_categorical_accuracy: 0.1471\n",
            "Epoch 39/100\n",
            "64/64 [==============================] - 8s 124ms/step - loss: 0.1581 - categorical_accuracy: 0.9452 - val_loss: 2.1799 - val_categorical_accuracy: 0.1471\n",
            "Epoch 40/100\n",
            "64/64 [==============================] - 8s 124ms/step - loss: 0.3156 - categorical_accuracy: 0.8914 - val_loss: 2.1608 - val_categorical_accuracy: 0.1655\n",
            "Epoch 41/100\n",
            "64/64 [==============================] - 8s 123ms/step - loss: 0.2065 - categorical_accuracy: 0.9270 - val_loss: 2.1867 - val_categorical_accuracy: 0.1471\n",
            "Epoch 42/100\n",
            "64/64 [==============================] - 8s 123ms/step - loss: 0.1889 - categorical_accuracy: 0.9353 - val_loss: 2.1890 - val_categorical_accuracy: 0.1471\n",
            "Epoch 43/100\n",
            "64/64 [==============================] - 8s 124ms/step - loss: 0.2029 - categorical_accuracy: 0.9296 - val_loss: 2.2107 - val_categorical_accuracy: 0.1655\n",
            "Epoch 44/100\n",
            "64/64 [==============================] - 8s 124ms/step - loss: 0.1772 - categorical_accuracy: 0.9377 - val_loss: 2.2085 - val_categorical_accuracy: 0.1655\n",
            "Epoch 45/100\n",
            "64/64 [==============================] - 8s 123ms/step - loss: 0.1850 - categorical_accuracy: 0.9360 - val_loss: 2.2396 - val_categorical_accuracy: 0.1655\n",
            "Epoch 46/100\n",
            "64/64 [==============================] - 8s 124ms/step - loss: 0.2207 - categorical_accuracy: 0.9246 - val_loss: 2.2393 - val_categorical_accuracy: 0.1460\n",
            "Epoch 47/100\n",
            "64/64 [==============================] - 8s 124ms/step - loss: 0.1403 - categorical_accuracy: 0.9538 - val_loss: 2.2954 - val_categorical_accuracy: 0.1649\n",
            "Epoch 48/100\n",
            "64/64 [==============================] - 8s 123ms/step - loss: 0.2044 - categorical_accuracy: 0.9264 - val_loss: 2.2529 - val_categorical_accuracy: 0.1655\n",
            "Epoch 49/100\n",
            "64/64 [==============================] - 8s 124ms/step - loss: 0.1392 - categorical_accuracy: 0.9519 - val_loss: 2.3304 - val_categorical_accuracy: 0.1666\n",
            "Epoch 50/100\n",
            "64/64 [==============================] - 8s 124ms/step - loss: 0.1575 - categorical_accuracy: 0.9458 - val_loss: 2.3282 - val_categorical_accuracy: 0.1655\n",
            "Epoch 51/100\n",
            "64/64 [==============================] - 8s 124ms/step - loss: 0.1029 - categorical_accuracy: 0.9671 - val_loss: 2.3553 - val_categorical_accuracy: 0.1652\n",
            "Epoch 52/100\n",
            "64/64 [==============================] - 8s 124ms/step - loss: 0.1288 - categorical_accuracy: 0.9546 - val_loss: 2.3482 - val_categorical_accuracy: 0.1655\n",
            "Epoch 53/100\n",
            "64/64 [==============================] - 8s 123ms/step - loss: 0.1155 - categorical_accuracy: 0.9610 - val_loss: 2.3179 - val_categorical_accuracy: 0.1655\n",
            "Epoch 54/100\n",
            "64/64 [==============================] - 8s 124ms/step - loss: 0.1720 - categorical_accuracy: 0.9396 - val_loss: 2.3298 - val_categorical_accuracy: 0.1655\n",
            "Epoch 55/100\n",
            "64/64 [==============================] - 8s 124ms/step - loss: 0.1422 - categorical_accuracy: 0.9511 - val_loss: 2.2872 - val_categorical_accuracy: 0.1655\n",
            "Epoch 56/100\n",
            "64/64 [==============================] - 8s 124ms/step - loss: 0.1554 - categorical_accuracy: 0.9449 - val_loss: 2.2804 - val_categorical_accuracy: 0.1652\n",
            "Epoch 57/100\n",
            "64/64 [==============================] - 8s 123ms/step - loss: 0.2146 - categorical_accuracy: 0.9281 - val_loss: 2.3848 - val_categorical_accuracy: 0.1655\n",
            "Epoch 58/100\n",
            "64/64 [==============================] - 8s 123ms/step - loss: 0.1901 - categorical_accuracy: 0.9356 - val_loss: 2.3899 - val_categorical_accuracy: 0.1655\n",
            "Epoch 59/100\n",
            "64/64 [==============================] - 8s 123ms/step - loss: 0.2608 - categorical_accuracy: 0.9081 - val_loss: 2.3443 - val_categorical_accuracy: 0.1658\n",
            "Epoch 60/100\n",
            "64/64 [==============================] - 8s 124ms/step - loss: 0.2155 - categorical_accuracy: 0.9260 - val_loss: 2.4660 - val_categorical_accuracy: 0.1652\n",
            "Epoch 61/100\n",
            "64/64 [==============================] - 8s 124ms/step - loss: 0.1081 - categorical_accuracy: 0.9632 - val_loss: 2.5670 - val_categorical_accuracy: 0.1655\n",
            "Epoch 62/100\n",
            "64/64 [==============================] - 8s 124ms/step - loss: 0.2252 - categorical_accuracy: 0.9253 - val_loss: 2.4865 - val_categorical_accuracy: 0.1778\n",
            "Epoch 63/100\n",
            "64/64 [==============================] - 8s 125ms/step - loss: 0.2040 - categorical_accuracy: 0.9291 - val_loss: 2.6166 - val_categorical_accuracy: 0.1677\n",
            "Epoch 64/100\n",
            "64/64 [==============================] - 8s 124ms/step - loss: 0.0810 - categorical_accuracy: 0.9730 - val_loss: 2.6354 - val_categorical_accuracy: 0.1669\n",
            "Epoch 65/100\n",
            "64/64 [==============================] - 8s 123ms/step - loss: 0.1028 - categorical_accuracy: 0.9645 - val_loss: 2.5860 - val_categorical_accuracy: 0.1733\n",
            "Epoch 66/100\n",
            "64/64 [==============================] - 8s 124ms/step - loss: 0.1205 - categorical_accuracy: 0.9590 - val_loss: 2.7281 - val_categorical_accuracy: 0.1747\n",
            "Epoch 67/100\n",
            "64/64 [==============================] - 8s 124ms/step - loss: 0.1396 - categorical_accuracy: 0.9509 - val_loss: 2.4846 - val_categorical_accuracy: 0.1878\n",
            "Epoch 68/100\n",
            "64/64 [==============================] - 8s 124ms/step - loss: 0.1060 - categorical_accuracy: 0.9642 - val_loss: 2.5516 - val_categorical_accuracy: 0.2145\n",
            "Epoch 69/100\n",
            "64/64 [==============================] - 8s 124ms/step - loss: 0.0932 - categorical_accuracy: 0.9686 - val_loss: 2.9205 - val_categorical_accuracy: 0.1817\n",
            "Epoch 70/100\n",
            "64/64 [==============================] - 8s 124ms/step - loss: 0.1265 - categorical_accuracy: 0.9574 - val_loss: 2.6980 - val_categorical_accuracy: 0.2157\n",
            "Epoch 71/100\n",
            "64/64 [==============================] - 8s 123ms/step - loss: 0.2052 - categorical_accuracy: 0.9306 - val_loss: 3.0855 - val_categorical_accuracy: 0.2076\n",
            "Epoch 72/100\n",
            "64/64 [==============================] - 8s 124ms/step - loss: 0.1624 - categorical_accuracy: 0.9435 - val_loss: 3.1384 - val_categorical_accuracy: 0.2118\n",
            "Epoch 73/100\n",
            "64/64 [==============================] - 8s 124ms/step - loss: 0.1892 - categorical_accuracy: 0.9346 - val_loss: 3.1452 - val_categorical_accuracy: 0.2371\n",
            "Epoch 74/100\n",
            "64/64 [==============================] - 8s 123ms/step - loss: 0.1332 - categorical_accuracy: 0.9547 - val_loss: 3.3490 - val_categorical_accuracy: 0.2402\n",
            "Epoch 75/100\n",
            "64/64 [==============================] - 8s 125ms/step - loss: 0.1108 - categorical_accuracy: 0.9629 - val_loss: 3.0162 - val_categorical_accuracy: 0.2536\n",
            "Epoch 76/100\n",
            "64/64 [==============================] - 8s 124ms/step - loss: 0.1141 - categorical_accuracy: 0.9609 - val_loss: 3.3127 - val_categorical_accuracy: 0.2761\n",
            "Epoch 77/100\n",
            "64/64 [==============================] - 8s 123ms/step - loss: 0.1034 - categorical_accuracy: 0.9657 - val_loss: 3.1872 - val_categorical_accuracy: 0.3157\n",
            "Epoch 78/100\n",
            "64/64 [==============================] - 8s 124ms/step - loss: 0.1867 - categorical_accuracy: 0.9375 - val_loss: 3.0817 - val_categorical_accuracy: 0.3288\n",
            "Epoch 79/100\n",
            "64/64 [==============================] - 8s 124ms/step - loss: 0.0879 - categorical_accuracy: 0.9703 - val_loss: 3.3063 - val_categorical_accuracy: 0.3461\n",
            "Epoch 80/100\n",
            "64/64 [==============================] - 8s 124ms/step - loss: 0.1899 - categorical_accuracy: 0.9368 - val_loss: 3.0399 - val_categorical_accuracy: 0.3683\n",
            "Epoch 81/100\n",
            "64/64 [==============================] - 8s 124ms/step - loss: 0.1030 - categorical_accuracy: 0.9654 - val_loss: 3.0748 - val_categorical_accuracy: 0.3709\n",
            "Epoch 82/100\n",
            "64/64 [==============================] - 8s 124ms/step - loss: 0.1576 - categorical_accuracy: 0.9471 - val_loss: 3.4222 - val_categorical_accuracy: 0.3784\n",
            "Epoch 83/100\n",
            "64/64 [==============================] - 8s 124ms/step - loss: 0.0611 - categorical_accuracy: 0.9800 - val_loss: 3.6305 - val_categorical_accuracy: 0.3784\n",
            "Epoch 84/100\n",
            "64/64 [==============================] - 8s 125ms/step - loss: 0.0580 - categorical_accuracy: 0.9807 - val_loss: 3.4380 - val_categorical_accuracy: 0.3753\n",
            "Epoch 85/100\n",
            "64/64 [==============================] - 8s 125ms/step - loss: 0.2084 - categorical_accuracy: 0.9279 - val_loss: 3.7427 - val_categorical_accuracy: 0.3898\n",
            "Epoch 86/100\n",
            "64/64 [==============================] - 8s 124ms/step - loss: 0.1641 - categorical_accuracy: 0.9418 - val_loss: 4.0886 - val_categorical_accuracy: 0.3887\n",
            "Epoch 87/100\n",
            "64/64 [==============================] - 8s 124ms/step - loss: 0.1458 - categorical_accuracy: 0.9500 - val_loss: 4.0216 - val_categorical_accuracy: 0.3996\n",
            "Epoch 88/100\n",
            "64/64 [==============================] - 8s 126ms/step - loss: 0.0832 - categorical_accuracy: 0.9729 - val_loss: 4.1543 - val_categorical_accuracy: 0.4048\n",
            "Epoch 89/100\n",
            "64/64 [==============================] - 8s 124ms/step - loss: 0.1304 - categorical_accuracy: 0.9558 - val_loss: 4.1949 - val_categorical_accuracy: 0.4263\n",
            "Epoch 90/100\n",
            "64/64 [==============================] - 8s 124ms/step - loss: 0.0921 - categorical_accuracy: 0.9693 - val_loss: 4.1365 - val_categorical_accuracy: 0.4157\n",
            "Epoch 91/100\n",
            "64/64 [==============================] - 8s 124ms/step - loss: 0.2349 - categorical_accuracy: 0.9197 - val_loss: 5.1143 - val_categorical_accuracy: 0.4188\n",
            "Epoch 92/100\n",
            "64/64 [==============================] - 8s 124ms/step - loss: 0.1150 - categorical_accuracy: 0.9614 - val_loss: 5.1078 - val_categorical_accuracy: 0.4358\n",
            "Epoch 93/100\n",
            "64/64 [==============================] - 8s 124ms/step - loss: 0.1024 - categorical_accuracy: 0.9655 - val_loss: 5.0969 - val_categorical_accuracy: 0.4232\n",
            "Epoch 94/100\n",
            "64/64 [==============================] - 8s 123ms/step - loss: 0.0648 - categorical_accuracy: 0.9790 - val_loss: 5.5668 - val_categorical_accuracy: 0.4313\n",
            "Epoch 95/100\n",
            "64/64 [==============================] - 8s 124ms/step - loss: 0.0712 - categorical_accuracy: 0.9745 - val_loss: 5.0434 - val_categorical_accuracy: 0.4347\n",
            "Epoch 96/100\n",
            "64/64 [==============================] - 8s 124ms/step - loss: 0.0870 - categorical_accuracy: 0.9705 - val_loss: 5.0485 - val_categorical_accuracy: 0.4363\n",
            "Epoch 97/100\n",
            "64/64 [==============================] - 8s 125ms/step - loss: 0.1176 - categorical_accuracy: 0.9602 - val_loss: 5.1838 - val_categorical_accuracy: 0.4366\n",
            "Epoch 98/100\n",
            "64/64 [==============================] - 8s 125ms/step - loss: 0.0970 - categorical_accuracy: 0.9661 - val_loss: 5.3622 - val_categorical_accuracy: 0.4330\n",
            "Epoch 99/100\n",
            "64/64 [==============================] - 8s 125ms/step - loss: 0.1197 - categorical_accuracy: 0.9591 - val_loss: 5.4964 - val_categorical_accuracy: 0.4266\n",
            "Epoch 100/100\n",
            "64/64 [==============================] - 8s 125ms/step - loss: 0.0753 - categorical_accuracy: 0.9749 - val_loss: 5.3533 - val_categorical_accuracy: 0.4280\n"
          ],
          "name": "stdout"
        },
        {
          "output_type": "execute_result",
          "data": {
            "text/plain": [
              "<tensorflow.python.keras.callbacks.History at 0x7f52b8d32208>"
            ]
          },
          "metadata": {
            "tags": []
          },
          "execution_count": 8
        }
      ]
    },
    {
      "cell_type": "code",
      "metadata": {
        "colab": {
          "base_uri": "https://localhost:8080/"
        },
        "id": "pimT39KKLPtw",
        "outputId": "b7ab4aaf-ab94-4708-c431-9fc0dd8ffcb8"
      },
      "source": [
        "model.summary()"
      ],
      "execution_count": 9,
      "outputs": [
        {
          "output_type": "stream",
          "text": [
            "Model: \"mobilenetv2_1.00_48\"\n",
            "__________________________________________________________________________________________________\n",
            "Layer (type)                    Output Shape         Param #     Connected to                     \n",
            "==================================================================================================\n",
            "input_3 (InputLayer)            [(None, 48, 48, 1)]  0                                            \n",
            "__________________________________________________________________________________________________\n",
            "Conv1 (Conv2D)                  (None, 24, 24, 32)   288         input_3[0][0]                    \n",
            "__________________________________________________________________________________________________\n",
            "bn_Conv1 (BatchNormalization)   (None, 24, 24, 32)   128         Conv1[0][0]                      \n",
            "__________________________________________________________________________________________________\n",
            "Conv1_relu (ReLU)               (None, 24, 24, 32)   0           bn_Conv1[0][0]                   \n",
            "__________________________________________________________________________________________________\n",
            "expanded_conv_depthwise (Depthw (None, 24, 24, 32)   288         Conv1_relu[0][0]                 \n",
            "__________________________________________________________________________________________________\n",
            "expanded_conv_depthwise_BN (Bat (None, 24, 24, 32)   128         expanded_conv_depthwise[0][0]    \n",
            "__________________________________________________________________________________________________\n",
            "expanded_conv_depthwise_relu (R (None, 24, 24, 32)   0           expanded_conv_depthwise_BN[0][0] \n",
            "__________________________________________________________________________________________________\n",
            "expanded_conv_project (Conv2D)  (None, 24, 24, 16)   512         expanded_conv_depthwise_relu[0][0\n",
            "__________________________________________________________________________________________________\n",
            "expanded_conv_project_BN (Batch (None, 24, 24, 16)   64          expanded_conv_project[0][0]      \n",
            "__________________________________________________________________________________________________\n",
            "block_1_expand (Conv2D)         (None, 24, 24, 96)   1536        expanded_conv_project_BN[0][0]   \n",
            "__________________________________________________________________________________________________\n",
            "block_1_expand_BN (BatchNormali (None, 24, 24, 96)   384         block_1_expand[0][0]             \n",
            "__________________________________________________________________________________________________\n",
            "block_1_expand_relu (ReLU)      (None, 24, 24, 96)   0           block_1_expand_BN[0][0]          \n",
            "__________________________________________________________________________________________________\n",
            "block_1_pad (ZeroPadding2D)     (None, 25, 25, 96)   0           block_1_expand_relu[0][0]        \n",
            "__________________________________________________________________________________________________\n",
            "block_1_depthwise (DepthwiseCon (None, 12, 12, 96)   864         block_1_pad[0][0]                \n",
            "__________________________________________________________________________________________________\n",
            "block_1_depthwise_BN (BatchNorm (None, 12, 12, 96)   384         block_1_depthwise[0][0]          \n",
            "__________________________________________________________________________________________________\n",
            "block_1_depthwise_relu (ReLU)   (None, 12, 12, 96)   0           block_1_depthwise_BN[0][0]       \n",
            "__________________________________________________________________________________________________\n",
            "block_1_project (Conv2D)        (None, 12, 12, 24)   2304        block_1_depthwise_relu[0][0]     \n",
            "__________________________________________________________________________________________________\n",
            "block_1_project_BN (BatchNormal (None, 12, 12, 24)   96          block_1_project[0][0]            \n",
            "__________________________________________________________________________________________________\n",
            "block_2_expand (Conv2D)         (None, 12, 12, 144)  3456        block_1_project_BN[0][0]         \n",
            "__________________________________________________________________________________________________\n",
            "block_2_expand_BN (BatchNormali (None, 12, 12, 144)  576         block_2_expand[0][0]             \n",
            "__________________________________________________________________________________________________\n",
            "block_2_expand_relu (ReLU)      (None, 12, 12, 144)  0           block_2_expand_BN[0][0]          \n",
            "__________________________________________________________________________________________________\n",
            "block_2_depthwise (DepthwiseCon (None, 12, 12, 144)  1296        block_2_expand_relu[0][0]        \n",
            "__________________________________________________________________________________________________\n",
            "block_2_depthwise_BN (BatchNorm (None, 12, 12, 144)  576         block_2_depthwise[0][0]          \n",
            "__________________________________________________________________________________________________\n",
            "block_2_depthwise_relu (ReLU)   (None, 12, 12, 144)  0           block_2_depthwise_BN[0][0]       \n",
            "__________________________________________________________________________________________________\n",
            "block_2_project (Conv2D)        (None, 12, 12, 24)   3456        block_2_depthwise_relu[0][0]     \n",
            "__________________________________________________________________________________________________\n",
            "block_2_project_BN (BatchNormal (None, 12, 12, 24)   96          block_2_project[0][0]            \n",
            "__________________________________________________________________________________________________\n",
            "block_2_add (Add)               (None, 12, 12, 24)   0           block_1_project_BN[0][0]         \n",
            "                                                                 block_2_project_BN[0][0]         \n",
            "__________________________________________________________________________________________________\n",
            "block_3_expand (Conv2D)         (None, 12, 12, 144)  3456        block_2_add[0][0]                \n",
            "__________________________________________________________________________________________________\n",
            "block_3_expand_BN (BatchNormali (None, 12, 12, 144)  576         block_3_expand[0][0]             \n",
            "__________________________________________________________________________________________________\n",
            "block_3_expand_relu (ReLU)      (None, 12, 12, 144)  0           block_3_expand_BN[0][0]          \n",
            "__________________________________________________________________________________________________\n",
            "block_3_pad (ZeroPadding2D)     (None, 13, 13, 144)  0           block_3_expand_relu[0][0]        \n",
            "__________________________________________________________________________________________________\n",
            "block_3_depthwise (DepthwiseCon (None, 6, 6, 144)    1296        block_3_pad[0][0]                \n",
            "__________________________________________________________________________________________________\n",
            "block_3_depthwise_BN (BatchNorm (None, 6, 6, 144)    576         block_3_depthwise[0][0]          \n",
            "__________________________________________________________________________________________________\n",
            "block_3_depthwise_relu (ReLU)   (None, 6, 6, 144)    0           block_3_depthwise_BN[0][0]       \n",
            "__________________________________________________________________________________________________\n",
            "block_3_project (Conv2D)        (None, 6, 6, 32)     4608        block_3_depthwise_relu[0][0]     \n",
            "__________________________________________________________________________________________________\n",
            "block_3_project_BN (BatchNormal (None, 6, 6, 32)     128         block_3_project[0][0]            \n",
            "__________________________________________________________________________________________________\n",
            "block_4_expand (Conv2D)         (None, 6, 6, 192)    6144        block_3_project_BN[0][0]         \n",
            "__________________________________________________________________________________________________\n",
            "block_4_expand_BN (BatchNormali (None, 6, 6, 192)    768         block_4_expand[0][0]             \n",
            "__________________________________________________________________________________________________\n",
            "block_4_expand_relu (ReLU)      (None, 6, 6, 192)    0           block_4_expand_BN[0][0]          \n",
            "__________________________________________________________________________________________________\n",
            "block_4_depthwise (DepthwiseCon (None, 6, 6, 192)    1728        block_4_expand_relu[0][0]        \n",
            "__________________________________________________________________________________________________\n",
            "block_4_depthwise_BN (BatchNorm (None, 6, 6, 192)    768         block_4_depthwise[0][0]          \n",
            "__________________________________________________________________________________________________\n",
            "block_4_depthwise_relu (ReLU)   (None, 6, 6, 192)    0           block_4_depthwise_BN[0][0]       \n",
            "__________________________________________________________________________________________________\n",
            "block_4_project (Conv2D)        (None, 6, 6, 32)     6144        block_4_depthwise_relu[0][0]     \n",
            "__________________________________________________________________________________________________\n",
            "block_4_project_BN (BatchNormal (None, 6, 6, 32)     128         block_4_project[0][0]            \n",
            "__________________________________________________________________________________________________\n",
            "block_4_add (Add)               (None, 6, 6, 32)     0           block_3_project_BN[0][0]         \n",
            "                                                                 block_4_project_BN[0][0]         \n",
            "__________________________________________________________________________________________________\n",
            "block_5_expand (Conv2D)         (None, 6, 6, 192)    6144        block_4_add[0][0]                \n",
            "__________________________________________________________________________________________________\n",
            "block_5_expand_BN (BatchNormali (None, 6, 6, 192)    768         block_5_expand[0][0]             \n",
            "__________________________________________________________________________________________________\n",
            "block_5_expand_relu (ReLU)      (None, 6, 6, 192)    0           block_5_expand_BN[0][0]          \n",
            "__________________________________________________________________________________________________\n",
            "block_5_depthwise (DepthwiseCon (None, 6, 6, 192)    1728        block_5_expand_relu[0][0]        \n",
            "__________________________________________________________________________________________________\n",
            "block_5_depthwise_BN (BatchNorm (None, 6, 6, 192)    768         block_5_depthwise[0][0]          \n",
            "__________________________________________________________________________________________________\n",
            "block_5_depthwise_relu (ReLU)   (None, 6, 6, 192)    0           block_5_depthwise_BN[0][0]       \n",
            "__________________________________________________________________________________________________\n",
            "block_5_project (Conv2D)        (None, 6, 6, 32)     6144        block_5_depthwise_relu[0][0]     \n",
            "__________________________________________________________________________________________________\n",
            "block_5_project_BN (BatchNormal (None, 6, 6, 32)     128         block_5_project[0][0]            \n",
            "__________________________________________________________________________________________________\n",
            "block_5_add (Add)               (None, 6, 6, 32)     0           block_4_add[0][0]                \n",
            "                                                                 block_5_project_BN[0][0]         \n",
            "__________________________________________________________________________________________________\n",
            "block_6_expand (Conv2D)         (None, 6, 6, 192)    6144        block_5_add[0][0]                \n",
            "__________________________________________________________________________________________________\n",
            "block_6_expand_BN (BatchNormali (None, 6, 6, 192)    768         block_6_expand[0][0]             \n",
            "__________________________________________________________________________________________________\n",
            "block_6_expand_relu (ReLU)      (None, 6, 6, 192)    0           block_6_expand_BN[0][0]          \n",
            "__________________________________________________________________________________________________\n",
            "block_6_pad (ZeroPadding2D)     (None, 7, 7, 192)    0           block_6_expand_relu[0][0]        \n",
            "__________________________________________________________________________________________________\n",
            "block_6_depthwise (DepthwiseCon (None, 3, 3, 192)    1728        block_6_pad[0][0]                \n",
            "__________________________________________________________________________________________________\n",
            "block_6_depthwise_BN (BatchNorm (None, 3, 3, 192)    768         block_6_depthwise[0][0]          \n",
            "__________________________________________________________________________________________________\n",
            "block_6_depthwise_relu (ReLU)   (None, 3, 3, 192)    0           block_6_depthwise_BN[0][0]       \n",
            "__________________________________________________________________________________________________\n",
            "block_6_project (Conv2D)        (None, 3, 3, 64)     12288       block_6_depthwise_relu[0][0]     \n",
            "__________________________________________________________________________________________________\n",
            "block_6_project_BN (BatchNormal (None, 3, 3, 64)     256         block_6_project[0][0]            \n",
            "__________________________________________________________________________________________________\n",
            "block_7_expand (Conv2D)         (None, 3, 3, 384)    24576       block_6_project_BN[0][0]         \n",
            "__________________________________________________________________________________________________\n",
            "block_7_expand_BN (BatchNormali (None, 3, 3, 384)    1536        block_7_expand[0][0]             \n",
            "__________________________________________________________________________________________________\n",
            "block_7_expand_relu (ReLU)      (None, 3, 3, 384)    0           block_7_expand_BN[0][0]          \n",
            "__________________________________________________________________________________________________\n",
            "block_7_depthwise (DepthwiseCon (None, 3, 3, 384)    3456        block_7_expand_relu[0][0]        \n",
            "__________________________________________________________________________________________________\n",
            "block_7_depthwise_BN (BatchNorm (None, 3, 3, 384)    1536        block_7_depthwise[0][0]          \n",
            "__________________________________________________________________________________________________\n",
            "block_7_depthwise_relu (ReLU)   (None, 3, 3, 384)    0           block_7_depthwise_BN[0][0]       \n",
            "__________________________________________________________________________________________________\n",
            "block_7_project (Conv2D)        (None, 3, 3, 64)     24576       block_7_depthwise_relu[0][0]     \n",
            "__________________________________________________________________________________________________\n",
            "block_7_project_BN (BatchNormal (None, 3, 3, 64)     256         block_7_project[0][0]            \n",
            "__________________________________________________________________________________________________\n",
            "block_7_add (Add)               (None, 3, 3, 64)     0           block_6_project_BN[0][0]         \n",
            "                                                                 block_7_project_BN[0][0]         \n",
            "__________________________________________________________________________________________________\n",
            "block_8_expand (Conv2D)         (None, 3, 3, 384)    24576       block_7_add[0][0]                \n",
            "__________________________________________________________________________________________________\n",
            "block_8_expand_BN (BatchNormali (None, 3, 3, 384)    1536        block_8_expand[0][0]             \n",
            "__________________________________________________________________________________________________\n",
            "block_8_expand_relu (ReLU)      (None, 3, 3, 384)    0           block_8_expand_BN[0][0]          \n",
            "__________________________________________________________________________________________________\n",
            "block_8_depthwise (DepthwiseCon (None, 3, 3, 384)    3456        block_8_expand_relu[0][0]        \n",
            "__________________________________________________________________________________________________\n",
            "block_8_depthwise_BN (BatchNorm (None, 3, 3, 384)    1536        block_8_depthwise[0][0]          \n",
            "__________________________________________________________________________________________________\n",
            "block_8_depthwise_relu (ReLU)   (None, 3, 3, 384)    0           block_8_depthwise_BN[0][0]       \n",
            "__________________________________________________________________________________________________\n",
            "block_8_project (Conv2D)        (None, 3, 3, 64)     24576       block_8_depthwise_relu[0][0]     \n",
            "__________________________________________________________________________________________________\n",
            "block_8_project_BN (BatchNormal (None, 3, 3, 64)     256         block_8_project[0][0]            \n",
            "__________________________________________________________________________________________________\n",
            "block_8_add (Add)               (None, 3, 3, 64)     0           block_7_add[0][0]                \n",
            "                                                                 block_8_project_BN[0][0]         \n",
            "__________________________________________________________________________________________________\n",
            "block_9_expand (Conv2D)         (None, 3, 3, 384)    24576       block_8_add[0][0]                \n",
            "__________________________________________________________________________________________________\n",
            "block_9_expand_BN (BatchNormali (None, 3, 3, 384)    1536        block_9_expand[0][0]             \n",
            "__________________________________________________________________________________________________\n",
            "block_9_expand_relu (ReLU)      (None, 3, 3, 384)    0           block_9_expand_BN[0][0]          \n",
            "__________________________________________________________________________________________________\n",
            "block_9_depthwise (DepthwiseCon (None, 3, 3, 384)    3456        block_9_expand_relu[0][0]        \n",
            "__________________________________________________________________________________________________\n",
            "block_9_depthwise_BN (BatchNorm (None, 3, 3, 384)    1536        block_9_depthwise[0][0]          \n",
            "__________________________________________________________________________________________________\n",
            "block_9_depthwise_relu (ReLU)   (None, 3, 3, 384)    0           block_9_depthwise_BN[0][0]       \n",
            "__________________________________________________________________________________________________\n",
            "block_9_project (Conv2D)        (None, 3, 3, 64)     24576       block_9_depthwise_relu[0][0]     \n",
            "__________________________________________________________________________________________________\n",
            "block_9_project_BN (BatchNormal (None, 3, 3, 64)     256         block_9_project[0][0]            \n",
            "__________________________________________________________________________________________________\n",
            "block_9_add (Add)               (None, 3, 3, 64)     0           block_8_add[0][0]                \n",
            "                                                                 block_9_project_BN[0][0]         \n",
            "__________________________________________________________________________________________________\n",
            "block_10_expand (Conv2D)        (None, 3, 3, 384)    24576       block_9_add[0][0]                \n",
            "__________________________________________________________________________________________________\n",
            "block_10_expand_BN (BatchNormal (None, 3, 3, 384)    1536        block_10_expand[0][0]            \n",
            "__________________________________________________________________________________________________\n",
            "block_10_expand_relu (ReLU)     (None, 3, 3, 384)    0           block_10_expand_BN[0][0]         \n",
            "__________________________________________________________________________________________________\n",
            "block_10_depthwise (DepthwiseCo (None, 3, 3, 384)    3456        block_10_expand_relu[0][0]       \n",
            "__________________________________________________________________________________________________\n",
            "block_10_depthwise_BN (BatchNor (None, 3, 3, 384)    1536        block_10_depthwise[0][0]         \n",
            "__________________________________________________________________________________________________\n",
            "block_10_depthwise_relu (ReLU)  (None, 3, 3, 384)    0           block_10_depthwise_BN[0][0]      \n",
            "__________________________________________________________________________________________________\n",
            "block_10_project (Conv2D)       (None, 3, 3, 96)     36864       block_10_depthwise_relu[0][0]    \n",
            "__________________________________________________________________________________________________\n",
            "block_10_project_BN (BatchNorma (None, 3, 3, 96)     384         block_10_project[0][0]           \n",
            "__________________________________________________________________________________________________\n",
            "block_11_expand (Conv2D)        (None, 3, 3, 576)    55296       block_10_project_BN[0][0]        \n",
            "__________________________________________________________________________________________________\n",
            "block_11_expand_BN (BatchNormal (None, 3, 3, 576)    2304        block_11_expand[0][0]            \n",
            "__________________________________________________________________________________________________\n",
            "block_11_expand_relu (ReLU)     (None, 3, 3, 576)    0           block_11_expand_BN[0][0]         \n",
            "__________________________________________________________________________________________________\n",
            "block_11_depthwise (DepthwiseCo (None, 3, 3, 576)    5184        block_11_expand_relu[0][0]       \n",
            "__________________________________________________________________________________________________\n",
            "block_11_depthwise_BN (BatchNor (None, 3, 3, 576)    2304        block_11_depthwise[0][0]         \n",
            "__________________________________________________________________________________________________\n",
            "block_11_depthwise_relu (ReLU)  (None, 3, 3, 576)    0           block_11_depthwise_BN[0][0]      \n",
            "__________________________________________________________________________________________________\n",
            "block_11_project (Conv2D)       (None, 3, 3, 96)     55296       block_11_depthwise_relu[0][0]    \n",
            "__________________________________________________________________________________________________\n",
            "block_11_project_BN (BatchNorma (None, 3, 3, 96)     384         block_11_project[0][0]           \n",
            "__________________________________________________________________________________________________\n",
            "block_11_add (Add)              (None, 3, 3, 96)     0           block_10_project_BN[0][0]        \n",
            "                                                                 block_11_project_BN[0][0]        \n",
            "__________________________________________________________________________________________________\n",
            "block_12_expand (Conv2D)        (None, 3, 3, 576)    55296       block_11_add[0][0]               \n",
            "__________________________________________________________________________________________________\n",
            "block_12_expand_BN (BatchNormal (None, 3, 3, 576)    2304        block_12_expand[0][0]            \n",
            "__________________________________________________________________________________________________\n",
            "block_12_expand_relu (ReLU)     (None, 3, 3, 576)    0           block_12_expand_BN[0][0]         \n",
            "__________________________________________________________________________________________________\n",
            "block_12_depthwise (DepthwiseCo (None, 3, 3, 576)    5184        block_12_expand_relu[0][0]       \n",
            "__________________________________________________________________________________________________\n",
            "block_12_depthwise_BN (BatchNor (None, 3, 3, 576)    2304        block_12_depthwise[0][0]         \n",
            "__________________________________________________________________________________________________\n",
            "block_12_depthwise_relu (ReLU)  (None, 3, 3, 576)    0           block_12_depthwise_BN[0][0]      \n",
            "__________________________________________________________________________________________________\n",
            "block_12_project (Conv2D)       (None, 3, 3, 96)     55296       block_12_depthwise_relu[0][0]    \n",
            "__________________________________________________________________________________________________\n",
            "block_12_project_BN (BatchNorma (None, 3, 3, 96)     384         block_12_project[0][0]           \n",
            "__________________________________________________________________________________________________\n",
            "block_12_add (Add)              (None, 3, 3, 96)     0           block_11_add[0][0]               \n",
            "                                                                 block_12_project_BN[0][0]        \n",
            "__________________________________________________________________________________________________\n",
            "block_13_expand (Conv2D)        (None, 3, 3, 576)    55296       block_12_add[0][0]               \n",
            "__________________________________________________________________________________________________\n",
            "block_13_expand_BN (BatchNormal (None, 3, 3, 576)    2304        block_13_expand[0][0]            \n",
            "__________________________________________________________________________________________________\n",
            "block_13_expand_relu (ReLU)     (None, 3, 3, 576)    0           block_13_expand_BN[0][0]         \n",
            "__________________________________________________________________________________________________\n",
            "block_13_pad (ZeroPadding2D)    (None, 5, 5, 576)    0           block_13_expand_relu[0][0]       \n",
            "__________________________________________________________________________________________________\n",
            "block_13_depthwise (DepthwiseCo (None, 2, 2, 576)    5184        block_13_pad[0][0]               \n",
            "__________________________________________________________________________________________________\n",
            "block_13_depthwise_BN (BatchNor (None, 2, 2, 576)    2304        block_13_depthwise[0][0]         \n",
            "__________________________________________________________________________________________________\n",
            "block_13_depthwise_relu (ReLU)  (None, 2, 2, 576)    0           block_13_depthwise_BN[0][0]      \n",
            "__________________________________________________________________________________________________\n",
            "block_13_project (Conv2D)       (None, 2, 2, 160)    92160       block_13_depthwise_relu[0][0]    \n",
            "__________________________________________________________________________________________________\n",
            "block_13_project_BN (BatchNorma (None, 2, 2, 160)    640         block_13_project[0][0]           \n",
            "__________________________________________________________________________________________________\n",
            "block_14_expand (Conv2D)        (None, 2, 2, 960)    153600      block_13_project_BN[0][0]        \n",
            "__________________________________________________________________________________________________\n",
            "block_14_expand_BN (BatchNormal (None, 2, 2, 960)    3840        block_14_expand[0][0]            \n",
            "__________________________________________________________________________________________________\n",
            "block_14_expand_relu (ReLU)     (None, 2, 2, 960)    0           block_14_expand_BN[0][0]         \n",
            "__________________________________________________________________________________________________\n",
            "block_14_depthwise (DepthwiseCo (None, 2, 2, 960)    8640        block_14_expand_relu[0][0]       \n",
            "__________________________________________________________________________________________________\n",
            "block_14_depthwise_BN (BatchNor (None, 2, 2, 960)    3840        block_14_depthwise[0][0]         \n",
            "__________________________________________________________________________________________________\n",
            "block_14_depthwise_relu (ReLU)  (None, 2, 2, 960)    0           block_14_depthwise_BN[0][0]      \n",
            "__________________________________________________________________________________________________\n",
            "block_14_project (Conv2D)       (None, 2, 2, 160)    153600      block_14_depthwise_relu[0][0]    \n",
            "__________________________________________________________________________________________________\n",
            "block_14_project_BN (BatchNorma (None, 2, 2, 160)    640         block_14_project[0][0]           \n",
            "__________________________________________________________________________________________________\n",
            "block_14_add (Add)              (None, 2, 2, 160)    0           block_13_project_BN[0][0]        \n",
            "                                                                 block_14_project_BN[0][0]        \n",
            "__________________________________________________________________________________________________\n",
            "block_15_expand (Conv2D)        (None, 2, 2, 960)    153600      block_14_add[0][0]               \n",
            "__________________________________________________________________________________________________\n",
            "block_15_expand_BN (BatchNormal (None, 2, 2, 960)    3840        block_15_expand[0][0]            \n",
            "__________________________________________________________________________________________________\n",
            "block_15_expand_relu (ReLU)     (None, 2, 2, 960)    0           block_15_expand_BN[0][0]         \n",
            "__________________________________________________________________________________________________\n",
            "block_15_depthwise (DepthwiseCo (None, 2, 2, 960)    8640        block_15_expand_relu[0][0]       \n",
            "__________________________________________________________________________________________________\n",
            "block_15_depthwise_BN (BatchNor (None, 2, 2, 960)    3840        block_15_depthwise[0][0]         \n",
            "__________________________________________________________________________________________________\n",
            "block_15_depthwise_relu (ReLU)  (None, 2, 2, 960)    0           block_15_depthwise_BN[0][0]      \n",
            "__________________________________________________________________________________________________\n",
            "block_15_project (Conv2D)       (None, 2, 2, 160)    153600      block_15_depthwise_relu[0][0]    \n",
            "__________________________________________________________________________________________________\n",
            "block_15_project_BN (BatchNorma (None, 2, 2, 160)    640         block_15_project[0][0]           \n",
            "__________________________________________________________________________________________________\n",
            "block_15_add (Add)              (None, 2, 2, 160)    0           block_14_add[0][0]               \n",
            "                                                                 block_15_project_BN[0][0]        \n",
            "__________________________________________________________________________________________________\n",
            "block_16_expand (Conv2D)        (None, 2, 2, 960)    153600      block_15_add[0][0]               \n",
            "__________________________________________________________________________________________________\n",
            "block_16_expand_BN (BatchNormal (None, 2, 2, 960)    3840        block_16_expand[0][0]            \n",
            "__________________________________________________________________________________________________\n",
            "block_16_expand_relu (ReLU)     (None, 2, 2, 960)    0           block_16_expand_BN[0][0]         \n",
            "__________________________________________________________________________________________________\n",
            "block_16_depthwise (DepthwiseCo (None, 2, 2, 960)    8640        block_16_expand_relu[0][0]       \n",
            "__________________________________________________________________________________________________\n",
            "block_16_depthwise_BN (BatchNor (None, 2, 2, 960)    3840        block_16_depthwise[0][0]         \n",
            "__________________________________________________________________________________________________\n",
            "block_16_depthwise_relu (ReLU)  (None, 2, 2, 960)    0           block_16_depthwise_BN[0][0]      \n",
            "__________________________________________________________________________________________________\n",
            "block_16_project (Conv2D)       (None, 2, 2, 320)    307200      block_16_depthwise_relu[0][0]    \n",
            "__________________________________________________________________________________________________\n",
            "block_16_project_BN (BatchNorma (None, 2, 2, 320)    1280        block_16_project[0][0]           \n",
            "__________________________________________________________________________________________________\n",
            "Conv_1 (Conv2D)                 (None, 2, 2, 1280)   409600      block_16_project_BN[0][0]        \n",
            "__________________________________________________________________________________________________\n",
            "Conv_1_bn (BatchNormalization)  (None, 2, 2, 1280)   5120        Conv_1[0][0]                     \n",
            "__________________________________________________________________________________________________\n",
            "out_relu (ReLU)                 (None, 2, 2, 1280)   0           Conv_1_bn[0][0]                  \n",
            "__________________________________________________________________________________________________\n",
            "global_average_pooling2d_1 (Glo (None, 1280)         0           out_relu[0][0]                   \n",
            "__________________________________________________________________________________________________\n",
            "predictions (Dense)             (None, 7)            8967        global_average_pooling2d_1[0][0] \n",
            "==================================================================================================\n",
            "Total params: 2,266,375\n",
            "Trainable params: 2,232,263\n",
            "Non-trainable params: 34,112\n",
            "__________________________________________________________________________________________________\n"
          ],
          "name": "stdout"
        }
      ]
    },
    {
      "cell_type": "code",
      "metadata": {
        "id": "zdn_bhlsLPtw"
      },
      "source": [
        "model_path = '/content/drive/MyDrive/model2.h5'\n",
        "model.save(model_path)"
      ],
      "execution_count": 14,
      "outputs": []
    },
    {
      "cell_type": "markdown",
      "metadata": {
        "id": "dAu7HHLILPtw"
      },
      "source": [
        "## 저장한 모델을 tensorflow.js 형태로 변환\n",
        "터미널에서 저장한 모델을 `tensorflowjs_converter` 명령어를 사용하여 변환\n",
        "```\n",
        "tensorflowjs_converter --input_format=keras model.h5 model\n",
        "```\n",
        "* /model 디렉터리에 `model.json` 및 모델 파일들이 생성되었는지 확인한다."
      ]
    },
    {
      "cell_type": "markdown",
      "metadata": {
        "id": "80GuqCJqLPtw"
      },
      "source": [
        "## 카메라에서 가져온 영상 전처리\n",
        "학습한 데이터는 가로세로 각 48 픽셀의 정사각형 흑백 이미지이다. 따라서 MobilNet의 \\<canvas\\> 사이즈를 48x48로 변환하고 RGB를 흑백 이미지로 처리해야 함.\n",
        "* gedit에서 js로 처리\n",
        "* `<canvas>`의 선언부에서 사이즈를 가로세로 48로 설정하고 grayscale style 부여\n",
        "* 버튼 클릭시에도 사이즈에 맞게 캡쳐한 이미지를 `<canvas>`에 그려줌.\n",
        "\n",
        "  ```\n",
        "  <button>Take snapshot</button>\n",
        "    <canvas></canvas>\n",
        "    <script>\n",
        "      video = document.querySelector('video');\n",
        "      canvas = document.querySelector('canvas');\n",
        "      canvas.width = 48;\n",
        "      canvas.height = 48;\n",
        "      canvas.style.filter = 'grayscale(1)';\n",
        "      video.style.transform = 'scaleX(-1)';\n",
        "\n",
        "    button.onclick = function() {\n",
        "        w = video.videoWidth;\n",
        "        h = video.videoHeight;\n",
        "        s = Math.min(w, h);\n",
        "        sx = (w-s)/2;\n",
        "        sy = (h-s)/2;\n",
        "\n",
        "        canvas.getContext('2d').drawImage(video, sx=sx, sy=sy, swidth=s,\n",
        "          sheight=s, x=0, y=0, width=48, height=48);\n",
        "    };\n",
        "    ```"
      ]
    },
    {
      "cell_type": "code",
      "metadata": {
        "id": "ajUvVg4bLPtx"
      },
      "source": [
        ""
      ],
      "execution_count": null,
      "outputs": []
    }
  ]
}